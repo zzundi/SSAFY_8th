{
 "cells": [
  {
   "cell_type": "code",
   "execution_count": null,
   "id": "f48a7263",
   "metadata": {},
   "outputs": [],
   "source": [
    "graph = dict()\n",
    " \n",
    "graph['A'] = ['B', 'C']\n",
    "graph['B'] = ['A', 'D']\n",
    "graph['C'] = ['A', 'G', 'H', 'I']\n",
    "graph['D'] = ['B', 'E', 'F']\n",
    "graph['E'] = ['D']\n",
    "graph['F'] = ['D']\n",
    "graph['G'] = ['C']\n",
    "graph['H'] = ['C']\n",
    "graph['I'] = ['C', 'J']\n",
    "graph['J'] = ['I']\n",
    "\n",
    "\n",
    "def dfs(graph, start_node):\n",
    "\n",
    "    ## 기본은 항상 두개의 리스트를 별도로 관리해주는것\n",
    "    need_visited, visited = list(), list()\n",
    "\n",
    "    ## 시작 노드 설정하기\n",
    "    need_visited.append(start_node)\n",
    "\n",
    "    ## 만약 아직 방문이 필요한 노드가 있다면\n",
    "    while need_visited:\n",
    "\n",
    "        ## 그 중에서 가장 마지막 데이터를 추출(스택 구조 활용)\n",
    "        node = need_visited.pop()\n",
    "\n",
    "        ## 만약 그 노드가 방문한 목록에 없다면\n",
    "        if node not in visited:\n",
    "\n",
    "            ##  방문한 목록에 추가하기\n",
    "            visited.append(node)\n",
    "\n",
    "            ## 그 노드에 연결된 노드를\n",
    "            need_visited.extend(graph[node])\n",
    "    return visited\n",
    "\n",
    "def dfs_recursive(graph, start, visited = []):\n",
    "   \n",
    "    ## 데이터를 추가하는 명령어 / 재귀 실시!\n",
    "    visited.append(start)\n",
    "\n",
    "    for node in graph[start]:\n",
    "        if node not in visited:\n",
    "            dfs_recursive(graph, node, visited)\n",
    "    return visited\n",
    "\n",
    "\n",
    "n = int(input())\n",
    "map_list = {}\n",
    "for i in range(n):\n",
    "    row_list = []\n",
    "    row_list.append(list(map(int, input())))\n",
    "    for j in range(n):\n",
    "        map_list[(i, j)] = row_list[j]\n",
    "\n",
    "print(map_list)\n",
    "\n"
   ]
  },
  {
   "cell_type": "code",
   "execution_count": 23,
   "id": "9b44229d",
   "metadata": {},
   "outputs": [
    {
     "name": "stdout",
     "output_type": "stream",
     "text": [
      "a\n"
     ]
    }
   ],
   "source": [
    "print('a')"
   ]
  },
  {
   "cell_type": "code",
   "execution_count": 16,
   "id": "b710f5c0",
   "metadata": {},
   "outputs": [
    {
     "name": "stdout",
     "output_type": "stream",
     "text": [
      "[(0, 0), (0, 1), (0, 2), (1, 0), (1, 1), (1, 2), (2, 0), (2, 1), (2, 2)]\n"
     ]
    }
   ],
   "source": [
    "\n",
    "need_visited = [(i, j) for i in range(3) for j in range(3)]\n",
    "print(need_visited)"
   ]
  },
  {
   "cell_type": "code",
   "execution_count": null,
   "id": "6f092b30",
   "metadata": {},
   "outputs": [],
   "source": [
    "n = int(input())\n",
    "map_list = {}\n",
    "house_group = 2\n",
    "visited = []\n",
    "need_visited = [(i, j) for i in range(n) for j in range(n)]\n",
    "for i in range(n):\n",
    "    row_list = list(map(int, input()))\n",
    "    \n",
    "    for j in range(n):\n",
    "        map_list[(i, j)] = row_list[j]\n",
    "\n",
    "def row_house(i, j):\n",
    "    if map_list[(i, j+1)] == 1:\n",
    "        map_list[(i, j+1)] = house_group\n",
    "        row_house(i, j+1)\n",
    "        row_house(i, j-1)\n",
    "        col_house(i, j+1)\n",
    "    else:\n",
    "        house_group += 1\n",
    "\n",
    "def col_house(i, j):\n",
    "    if map_list[(i+1, j)] == 1:\n",
    "        map_list[(i+1, j)] = house_group\n",
    "        col_house(i+1, j)\n",
    "        \n",
    "    else:\n",
    "        house_group += 1\n"
   ]
  },
  {
   "cell_type": "code",
   "execution_count": null,
   "id": "7607aee4",
   "metadata": {},
   "outputs": [],
   "source": []
  }
 ],
 "metadata": {
  "interpreter": {
   "hash": "0b6ce98c3096834a7a501856e3303731ddbe0942f37d88665ab51c442e15a354"
  },
  "kernelspec": {
   "display_name": "Python 3.10.0 64-bit",
   "language": "python",
   "name": "python3"
  },
  "language_info": {
   "codemirror_mode": {
    "name": "ipython",
    "version": 3
   },
   "file_extension": ".py",
   "mimetype": "text/x-python",
   "name": "python",
   "nbconvert_exporter": "python",
   "pygments_lexer": "ipython3",
   "version": "3.10.0"
  }
 },
 "nbformat": 4,
 "nbformat_minor": 5
}
