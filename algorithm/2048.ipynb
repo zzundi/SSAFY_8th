{
 "cells": [
  {
   "cell_type": "code",
   "execution_count": 5,
   "metadata": {},
   "outputs": [
    {
     "name": "stdout",
     "output_type": "stream",
     "text": [
      "[4, 8, 2, 4, 0]\n"
     ]
    }
   ],
   "source": [
    "a = list(map(int, input().split()))\n",
    "print(a)"
   ]
  },
  {
   "cell_type": "code",
   "execution_count": 8,
   "metadata": {},
   "outputs": [],
   "source": [
    "test_num = int(input())\n",
    "for i in range(test_num):\n",
    "    n, d = input().split()\n",
    "    test_map = [list(map(int, input().split())) for i in range(n)]\n",
    "    if d == 'up':\n",
    "        for j in range(n-1):\n",
    "            for k in range(n-1):\n",
    "                if test_map[k][j] == test_map[k+1][j]:\n",
    "                    test_map[]"
   ]
  },
  {
   "cell_type": "code",
   "execution_count": 3,
   "metadata": {},
   "outputs": [
    {
     "ename": "ValueError",
     "evalue": "<built-in function max> is not in list",
     "output_type": "error",
     "traceback": [
      "\u001b[1;31m---------------------------------------------------------------------------\u001b[0m",
      "\u001b[1;31mValueError\u001b[0m                                Traceback (most recent call last)",
      "\u001b[1;32mc:\\Users\\Home\\workspace\\algorithm_train\\2048.ipynb Cell 3'\u001b[0m in \u001b[0;36m<module>\u001b[1;34m\u001b[0m\n\u001b[0;32m      <a href='vscode-notebook-cell:/c%3A/Users/Home/workspace/algorithm_train/2048.ipynb#ch0000002?line=0'>1</a>\u001b[0m price \u001b[39m=\u001b[39m [\u001b[39m1\u001b[39m, \u001b[39m3\u001b[39m, \u001b[39m3\u001b[39m, \u001b[39m6\u001b[39m, \u001b[39m2\u001b[39m, \u001b[39m4\u001b[39m, \u001b[39m5\u001b[39m, \u001b[39m6\u001b[39m]\n\u001b[1;32m----> <a href='vscode-notebook-cell:/c%3A/Users/Home/workspace/algorithm_train/2048.ipynb#ch0000002?line=1'>2</a>\u001b[0m price\u001b[39m.\u001b[39;49mindex(\u001b[39mmax\u001b[39;49m)\n",
      "\u001b[1;31mValueError\u001b[0m: <built-in function max> is not in list"
     ]
    }
   ],
   "source": [
    "price = [1, 3, 3, 6, 2, 4, 5, 6]\n",
    "price.index(max)"
   ]
  }
 ],
 "metadata": {
  "interpreter": {
   "hash": "0b6ce98c3096834a7a501856e3303731ddbe0942f37d88665ab51c442e15a354"
  },
  "kernelspec": {
   "display_name": "Python 3.10.0 64-bit",
   "language": "python",
   "name": "python3"
  },
  "language_info": {
   "codemirror_mode": {
    "name": "ipython",
    "version": 3
   },
   "file_extension": ".py",
   "mimetype": "text/x-python",
   "name": "python",
   "nbconvert_exporter": "python",
   "pygments_lexer": "ipython3",
   "version": "3.10.0"
  },
  "orig_nbformat": 4
 },
 "nbformat": 4,
 "nbformat_minor": 2
}
