{
 "cells": [
  {
   "cell_type": "code",
   "execution_count": 66,
   "metadata": {},
   "outputs": [
    {
     "name": "stdout",
     "output_type": "stream",
     "text": [
      "3234\n"
     ]
    }
   ],
   "source": [
    "N, K = map(int, input().split())\n",
    "num = list(input())\n",
    "k, stack = K, []\n",
    "for i in range(N):\n",
    "    while k > 0 and stack and stack[-1] < num[i]:\n",
    "        stack.pop()\n",
    "        k -= 1\n",
    "    stack.append(num[i])\n",
    "print(''.join(stack[:N-K]))"
   ]
  }
 ],
 "metadata": {
  "interpreter": {
   "hash": "0b6ce98c3096834a7a501856e3303731ddbe0942f37d88665ab51c442e15a354"
  },
  "kernelspec": {
   "display_name": "Python 3.10.0 64-bit",
   "language": "python",
   "name": "python3"
  },
  "language_info": {
   "codemirror_mode": {
    "name": "ipython",
    "version": 3
   },
   "file_extension": ".py",
   "mimetype": "text/x-python",
   "name": "python",
   "nbconvert_exporter": "python",
   "pygments_lexer": "ipython3",
   "version": "3.10.0"
  },
  "orig_nbformat": 4
 },
 "nbformat": 4,
 "nbformat_minor": 2
}
