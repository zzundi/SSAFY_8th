{
 "cells": [
  {
   "cell_type": "code",
   "execution_count": null,
   "metadata": {},
   "outputs": [],
   "source": [
    "n = int(input())\n",
    "for _ in range(n):\n",
    "    money = 0\n",
    "    day = int(input())\n",
    "    price = list(map(int, input().split()))\n",
    "\n",
    "    while True:\n",
    "        maximum = max(price)\n",
    "        max_idx = price.index(maximum)\n",
    "\n",
    "        for i in range(max_idx):\n",
    "            if price[i] < maximum:\n",
    "                money += maximum - price[i]\n",
    "        price = price[max_idx+1:]\n",
    "      \n",
    "        if len(price) < 2:\n",
    "            break\n",
    "    print('#{} {}'.format(_+1, money))\n",
    "    "
   ]
  }
 ],
 "metadata": {
  "language_info": {
   "name": "python"
  },
  "orig_nbformat": 4
 },
 "nbformat": 4,
 "nbformat_minor": 2
}
