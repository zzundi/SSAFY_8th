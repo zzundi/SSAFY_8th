{
 "cells": [
  {
   "cell_type": "code",
   "execution_count": 6,
   "metadata": {},
   "outputs": [
    {
     "data": {
      "text/plain": [
       "12"
      ]
     },
     "execution_count": 6,
     "metadata": {},
     "output_type": "execute_result"
    }
   ],
   "source": [
    "https://swexpertacademy.com/main/solvingProblem/solvingProblem.do"
   ]
  },
  {
   "cell_type": "code",
   "execution_count": 6,
   "metadata": {},
   "outputs": [
    {
     "name": "stdout",
     "output_type": "stream",
     "text": [
      "#1 12 12 11 13\n",
      "#2 ERROR\n"
     ]
    },
    {
     "ename": "KeyError",
     "evalue": "' '",
     "output_type": "error",
     "traceback": [
      "\u001b[1;31m---------------------------------------------------------------------------\u001b[0m",
      "\u001b[1;31mKeyError\u001b[0m                                  Traceback (most recent call last)",
      "\u001b[1;32mc:\\Users\\Home\\workspace\\algorithm_train\\영준이의카드카운팅.ipynb Cell 2'\u001b[0m in \u001b[0;36m<module>\u001b[1;34m\u001b[0m\n\u001b[0;32m      <a href='vscode-notebook-cell:/c%3A/Users/Home/workspace/algorithm_train/%EC%98%81%EC%A4%80%EC%9D%B4%EC%9D%98%EC%B9%B4%EB%93%9C%EC%B9%B4%EC%9A%B4%ED%8C%85.ipynb#ch0000001?line=4'>5</a>\u001b[0m decked \u001b[39m=\u001b[39m []\n\u001b[0;32m      <a href='vscode-notebook-cell:/c%3A/Users/Home/workspace/algorithm_train/%EC%98%81%EC%A4%80%EC%9D%B4%EC%9D%98%EC%B9%B4%EB%93%9C%EC%B9%B4%EC%9A%B4%ED%8C%85.ipynb#ch0000001?line=5'>6</a>\u001b[0m \u001b[39mfor\u001b[39;00m j \u001b[39min\u001b[39;00m \u001b[39mrange\u001b[39m(\u001b[39mint\u001b[39m(\u001b[39mlen\u001b[39m(card)\u001b[39m/\u001b[39m\u001b[39m3\u001b[39m)):\n\u001b[1;32m----> <a href='vscode-notebook-cell:/c%3A/Users/Home/workspace/algorithm_train/%EC%98%81%EC%A4%80%EC%9D%B4%EC%9D%98%EC%B9%B4%EB%93%9C%EC%B9%B4%EC%9A%B4%ED%8C%85.ipynb#ch0000001?line=6'>7</a>\u001b[0m     deck[card[j\u001b[39m*\u001b[39m\u001b[39m3\u001b[39m]] \u001b[39m-\u001b[39m\u001b[39m=\u001b[39m \u001b[39m1\u001b[39m\n\u001b[0;32m      <a href='vscode-notebook-cell:/c%3A/Users/Home/workspace/algorithm_train/%EC%98%81%EC%A4%80%EC%9D%B4%EC%9D%98%EC%B9%B4%EB%93%9C%EC%B9%B4%EC%9A%B4%ED%8C%85.ipynb#ch0000001?line=7'>8</a>\u001b[0m     \u001b[39mif\u001b[39;00m card[j\u001b[39m*\u001b[39m\u001b[39m3\u001b[39m:j\u001b[39m*\u001b[39m\u001b[39m3\u001b[39m\u001b[39m+\u001b[39m\u001b[39m3\u001b[39m] \u001b[39min\u001b[39;00m decked:\n\u001b[0;32m      <a href='vscode-notebook-cell:/c%3A/Users/Home/workspace/algorithm_train/%EC%98%81%EC%A4%80%EC%9D%B4%EC%9D%98%EC%B9%B4%EB%93%9C%EC%B9%B4%EC%9A%B4%ED%8C%85.ipynb#ch0000001?line=8'>9</a>\u001b[0m         \u001b[39mprint\u001b[39m(\u001b[39mf\u001b[39m\u001b[39m'\u001b[39m\u001b[39m#\u001b[39m\u001b[39m{\u001b[39;00mi\u001b[39m+\u001b[39m\u001b[39m1\u001b[39m\u001b[39m}\u001b[39;00m\u001b[39m ERROR\u001b[39m\u001b[39m'\u001b[39m)\n",
      "\u001b[1;31mKeyError\u001b[0m: ' '"
     ]
    }
   ],
   "source": [
    "n = int(input())\n",
    "for i in range(n):\n",
    "    deck = {'S':13, 'D':13, 'H':13, 'C':13}\n",
    "    card = input()\n",
    "    decked = []\n",
    "    for j in range(int(len(card)/3)):\n",
    "        deck[card[j*3]] -= 1\n",
    "        if card[j*3:j*3+3] in decked:\n",
    "            print(f'#{i+1} ERROR')\n",
    "            break\n",
    "        decked.append(card[j*3:j*3+3])\n",
    "        if j+1 == int(len(card)/3):\n",
    "            print('#{} {} {} {} {}'.format(i+1, deck['S'], deck['D'], deck['H'], deck['C']))\n",
    "        "
   ]
  }
 ],
 "metadata": {
  "interpreter": {
   "hash": "0b6ce98c3096834a7a501856e3303731ddbe0942f37d88665ab51c442e15a354"
  },
  "kernelspec": {
   "display_name": "Python 3.10.0 64-bit",
   "language": "python",
   "name": "python3"
  },
  "language_info": {
   "codemirror_mode": {
    "name": "ipython",
    "version": 3
   },
   "file_extension": ".py",
   "mimetype": "text/x-python",
   "name": "python",
   "nbconvert_exporter": "python",
   "pygments_lexer": "ipython3",
   "version": "3.10.0"
  },
  "orig_nbformat": 4
 },
 "nbformat": 4,
 "nbformat_minor": 2
}
