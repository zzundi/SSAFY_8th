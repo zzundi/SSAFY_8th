{
 "cells": [
  {
   "cell_type": "code",
   "execution_count": 5,
   "metadata": {},
   "outputs": [
    {
     "name": "stdout",
     "output_type": "stream",
     "text": [
      "[[5, 5, 4]]\n",
      "[[5, 5, 4], [3, 9, 1]]\n",
      "[[5, 5, 4], [3, 9, 1], [3, 2, 7]]\n"
     ]
    }
   ],
   "source": [
    "n = int(input())\n",
    "map_list = []\n",
    "for _ in range(n):\n",
    "    map_list.append(list(map(int,input().split())))\n",
    "    print(map_list)"
   ]
  },
  {
   "cell_type": "code",
   "execution_count": 12,
   "metadata": {},
   "outputs": [
    {
     "ename": "NameError",
     "evalue": "name 'List' is not defined",
     "output_type": "error",
     "traceback": [
      "\u001b[1;31m---------------------------------------------------------------------------\u001b[0m",
      "\u001b[1;31mNameError\u001b[0m                                 Traceback (most recent call last)",
      "\u001b[1;32mc:\\Users\\Home\\workspace\\algorithm_train\\녹색옷입은애가젤다지.ipynb Cell 2'\u001b[0m in \u001b[0;36m<module>\u001b[1;34m\u001b[0m\n\u001b[1;32m----> <a href='vscode-notebook-cell:/c%3A/Users/Home/workspace/algorithm_train/%EB%85%B9%EC%83%89%EC%98%B7%EC%9E%85%EC%9D%80%EC%95%A0%EA%B0%80%EC%A0%A4%EB%8B%A4%EC%A7%80.ipynb#ch0000002?line=0'>1</a>\u001b[0m \u001b[39mclass\u001b[39;00m \u001b[39mSolution\u001b[39;00m:\n\u001b[0;32m      <a href='vscode-notebook-cell:/c%3A/Users/Home/workspace/algorithm_train/%EB%85%B9%EC%83%89%EC%98%B7%EC%9E%85%EC%9D%80%EC%95%A0%EA%B0%80%EC%A0%A4%EB%8B%A4%EC%A7%80.ipynb#ch0000002?line=1'>2</a>\u001b[0m     \u001b[39mdef\u001b[39;00m \u001b[39msingleNumber\u001b[39m(\u001b[39mself\u001b[39m, nums: List[\u001b[39mint\u001b[39m]) \u001b[39m-\u001b[39m\u001b[39m>\u001b[39m \u001b[39mint\u001b[39m:\n\u001b[0;32m      <a href='vscode-notebook-cell:/c%3A/Users/Home/workspace/algorithm_train/%EB%85%B9%EC%83%89%EC%98%B7%EC%9E%85%EC%9D%80%EC%95%A0%EA%B0%80%EC%A0%A4%EB%8B%A4%EC%A7%80.ipynb#ch0000002?line=2'>3</a>\u001b[0m         nums\u001b[39m.\u001b[39msort()\n",
      "\u001b[1;32mc:\\Users\\Home\\workspace\\algorithm_train\\녹색옷입은애가젤다지.ipynb Cell 2'\u001b[0m in \u001b[0;36mSolution\u001b[1;34m()\u001b[0m\n\u001b[0;32m      <a href='vscode-notebook-cell:/c%3A/Users/Home/workspace/algorithm_train/%EB%85%B9%EC%83%89%EC%98%B7%EC%9E%85%EC%9D%80%EC%95%A0%EA%B0%80%EC%A0%A4%EB%8B%A4%EC%A7%80.ipynb#ch0000002?line=0'>1</a>\u001b[0m \u001b[39mclass\u001b[39;00m \u001b[39mSolution\u001b[39;00m:\n\u001b[1;32m----> <a href='vscode-notebook-cell:/c%3A/Users/Home/workspace/algorithm_train/%EB%85%B9%EC%83%89%EC%98%B7%EC%9E%85%EC%9D%80%EC%95%A0%EA%B0%80%EC%A0%A4%EB%8B%A4%EC%A7%80.ipynb#ch0000002?line=1'>2</a>\u001b[0m     \u001b[39mdef\u001b[39;00m \u001b[39msingleNumber\u001b[39m(\u001b[39mself\u001b[39m, nums: List[\u001b[39mint\u001b[39m]) \u001b[39m-\u001b[39m\u001b[39m>\u001b[39m \u001b[39mint\u001b[39m:\n\u001b[0;32m      <a href='vscode-notebook-cell:/c%3A/Users/Home/workspace/algorithm_train/%EB%85%B9%EC%83%89%EC%98%B7%EC%9E%85%EC%9D%80%EC%95%A0%EA%B0%80%EC%A0%A4%EB%8B%A4%EC%A7%80.ipynb#ch0000002?line=2'>3</a>\u001b[0m         nums\u001b[39m.\u001b[39msort()\n\u001b[0;32m      <a href='vscode-notebook-cell:/c%3A/Users/Home/workspace/algorithm_train/%EB%85%B9%EC%83%89%EC%98%B7%EC%9E%85%EC%9D%80%EC%95%A0%EA%B0%80%EC%A0%A4%EB%8B%A4%EC%A7%80.ipynb#ch0000002?line=3'>4</a>\u001b[0m         cnt \u001b[39m=\u001b[39m \u001b[39m0\u001b[39m\n",
      "\u001b[1;31mNameError\u001b[0m: name 'List' is not defined"
     ]
    }
   ],
   "source": [
    "class Solution:\n",
    "    def singleNumber(self, nums: List[int]) -> int:\n",
    "        nums.sort()\n",
    "        cnt = 0\n",
    "        while True:\n",
    "            if nums[cnt] == nums[cnt+1] and len(nums) > cnt + 2 :\n",
    "                cnt += 2\n",
    "                continue\n",
    "            else:\n",
    "                return nums[cnt]\n",
    "\n",
    "Solution.singleNumber(nums = [4,1,2,1,2])"
   ]
  },
  {
   "cell_type": "code",
   "execution_count": null,
   "metadata": {},
   "outputs": [],
   "source": [
    "dx = [-1, 1, 0, 0]\n",
    "dy = [0, 0, -1, 1]\n",
    "def derection(i, j):\n",
    "    \n",
    "    \n",
    "\n",
    "\n",
    "\n",
    "while True:\n",
    "    n = int(input())\n",
    "    if n == 0:\n",
    "        break\n",
    "    map_list = []\n",
    "    score = 0\n",
    "    visited = []\n",
    "\n",
    "\n",
    "    for _ in range(n):\n",
    "        map_list.append(list(map(int,input().split())))\n",
    "    for i in range(n):\n",
    "        for j in range(n):\n",
    "            map_list[i][j]"
   ]
  }
 ],
 "metadata": {
  "interpreter": {
   "hash": "0b6ce98c3096834a7a501856e3303731ddbe0942f37d88665ab51c442e15a354"
  },
  "kernelspec": {
   "display_name": "Python 3.10.0 64-bit",
   "language": "python",
   "name": "python3"
  },
  "language_info": {
   "codemirror_mode": {
    "name": "ipython",
    "version": 3
   },
   "file_extension": ".py",
   "mimetype": "text/x-python",
   "name": "python",
   "nbconvert_exporter": "python",
   "pygments_lexer": "ipython3",
   "version": "3.10.0"
  },
  "orig_nbformat": 4
 },
 "nbformat": 4,
 "nbformat_minor": 2
}
