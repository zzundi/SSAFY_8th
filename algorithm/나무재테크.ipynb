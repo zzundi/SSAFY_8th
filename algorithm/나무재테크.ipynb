{
 "cells": [
  {
   "cell_type": "code",
   "execution_count": 190,
   "metadata": {},
   "outputs": [],
   "source": [
    "from collections import defaultdict\n",
    "N, M, K = list(map(int, input().split()))\n",
    "land = [[5 for _ in range(N)] for _ in range(N)]\n",
    "land_refill = [list(map(int, input().split())) for _ in range(N)]\n",
    "trees = [list(map(int, input().split())) for _ in range(M)]\n",
    "trees_map = defaultdict(list)\n",
    "dx = [-1, -1, -1, 0,  0, 1, 1, 1]\n",
    "dy = [-1, 0, 1, -1,  1, -1, 0, 1]\n",
    "for i in range(len(trees)):\n",
    "    if (trees[i][0], trees[i][1]) in trees_map.keys():\n",
    "        trees_map[(trees[i][0], trees[i][1])].append(trees[i][2])\n",
    "    else:\n",
    "        trees_map[(trees[i][0], trees[i][1])] = [trees[i][2]]\n",
    "for i in range(K):\n",
    "    trees_map_key = list(trees_map.keys())\n",
    "    trees_map_values = list(trees_map.values())\n",
    "    dead_trees = []\n",
    "    for j in range(len(trees_map)):\n",
    "        trees_map[trees_map_key[j]].sort()\n",
    "        for k in range(len(trees_map[trees_map_key[j]])):\n",
    "            if land[trees_map_key[j][0]-1][trees_map_key[j][1]-1] >= trees_map[trees_map_key[j]][k]:\n",
    "                land[trees_map_key[j][0]-1][trees_map_key[j][1]-1] -= trees_map[trees_map_key[j]][k]\n",
    "                trees_map[trees_map_key[j]][k] += 1\n",
    "            else:\n",
    "                dead_trees.append([trees_map_key[j][0], trees_map_key[j][1], trees_map[trees_map_key[j]][k:]])\n",
    "                trees_map[trees_map_key[j]] = trees_map[trees_map_key[j]][:k]\n",
    "                break\n",
    "    for j in range(len(dead_trees)):\n",
    "        land[dead_trees[j][0]- 1][dead_trees[j][1] - 1] += sum(dead_trees[j][2])//2\n",
    "    trees_map_key = list(trees_map.keys())\n",
    "    trees_map_values = list(trees_map.values())\n",
    "    for j in trees_map_key:\n",
    "        for k in trees_map[j]:\n",
    "            if k % 5 == 0:\n",
    "                for _ in range(8):\n",
    "                    nx = j[0] + dx[_]\n",
    "                    ny = j[1] + dy[_]\n",
    "                    if 1 > nx or N < nx or 1 > ny or N < ny: continue\n",
    "                    trees_map[nx,ny].append(1)                 \n",
    "    for j in range(N):\n",
    "        for k in range(N):\n",
    "            land[j][k] += land_refill[j][k]\n",
    "tree_cnt = 0    \n",
    "for i in range(len(trees_map)):\n",
    "    tree_cnt += len(list(trees_map.values())[i])\n",
    "\n",
    "print(tree_cnt)"
   ]
  }
 ],
 "metadata": {
  "interpreter": {
   "hash": "0b6ce98c3096834a7a501856e3303731ddbe0942f37d88665ab51c442e15a354"
  },
  "kernelspec": {
   "display_name": "Python 3.10.0 64-bit",
   "language": "python",
   "name": "python3"
  },
  "language_info": {
   "codemirror_mode": {
    "name": "ipython",
    "version": 3
   },
   "file_extension": ".py",
   "mimetype": "text/x-python",
   "name": "python",
   "nbconvert_exporter": "python",
   "pygments_lexer": "ipython3",
   "version": "3.10.0"
  },
  "orig_nbformat": 4
 },
 "nbformat": 4,
 "nbformat_minor": 2
}
