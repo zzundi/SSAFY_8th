{
 "cells": [
  {
   "cell_type": "code",
   "execution_count": 190,
   "metadata": {},
   "outputs": [],
   "source": [
    "from collections import defaultdict\n",
    "N, M, K = list(map(int, input().split()))\n",
    "land = [[5 for _ in range(N)] for _ in range(N)]\n",
    "land_refill = [list(map(int, input().split())) for _ in range(N)]\n",
    "trees = [list(map(int, input().split())) for _ in range(M)]\n",
    "trees_map = defaultdict(list)\n",
    "trees_map.keys()\n",
    "dx = [-1, -1, -1, 0, 0, 0, 1, 1, 1]\n",
    "dy = [-1, 0, 1, -1, 0, 1, -1, 0, 1]"
   ]
  },
  {
   "cell_type": "code",
   "execution_count": 191,
   "metadata": {},
   "outputs": [
    {
     "data": {
      "text/plain": [
       "defaultdict(list, {(2, 1): [3], (3, 2): [3]})"
      ]
     },
     "execution_count": 191,
     "metadata": {},
     "output_type": "execute_result"
    }
   ],
   "source": [
    "for i in range(len(trees)):\n",
    "    if (trees[i][0], trees[i][1]) in trees_map.keys():\n",
    "        trees_map[(trees[i][0], trees[i][1])].append(trees[i][2])\n",
    "    else:\n",
    "        trees_map[(trees[i][0], trees[i][1])] = [trees[i][2]]\n",
    "trees_map\n"
   ]
  },
  {
   "cell_type": "code",
   "execution_count": 177,
   "metadata": {},
   "outputs": [
    {
     "data": {
      "text/plain": [
       "[[3], [3]]"
      ]
     },
     "execution_count": 177,
     "metadata": {},
     "output_type": "execute_result"
    }
   ],
   "source": [
    "list(trees_map.values())"
   ]
  },
  {
   "cell_type": "code",
   "execution_count": null,
   "metadata": {},
   "outputs": [],
   "source": []
  },
  {
   "cell_type": "code",
   "execution_count": 192,
   "metadata": {},
   "outputs": [
    {
     "name": "stdout",
     "output_type": "stream",
     "text": [
      "1 dict_values([[3], [3]])\n",
      "2 dict_values([[4], [4]])\n",
      "3 dict_values([[4], [4]])\n",
      "4 dict_values([[4], [4]])\n",
      "5 dict_values([[4], [4]])\n",
      "1 dict_values([[4], [4]])\n",
      "2 dict_values([[5], [5]])\n",
      "3 dict_values([[5], [5]])\n",
      "4 dict_values([[5, 1, 1], [5], [1, 1], [1, 1], [1, 1], [1, 1]])\n",
      "5 dict_values([[5, 1, 1], [5], [1, 1], [1, 1], [1, 1], [1, 1]])\n",
      "12\n"
     ]
    }
   ],
   "source": [
    "from collections import defaultdict\n",
    "for i in range(K):\n",
    "    trees_map_key = list(trees_map.keys())\n",
    "    trees_map_values = list(trees_map.values())\n",
    "    dead_trees = []\n",
    "    for j in range(len(trees_map)):\n",
    "        trees_map[trees_map_key[j]].sort()\n",
    "\n",
    "        for k in range(len(trees_map[trees_map_key[j]])):\n",
    "\n",
    "            if land[trees_map_key[j][0]-1][trees_map_key[j][1]-1] >= trees_map[trees_map_key[j]][k]:\n",
    "                land[trees_map_key[j][0]-1][trees_map_key[j][1]-1] -= trees_map[trees_map_key[j]][k]\n",
    "                trees_map[trees_map_key[j]][k] += 1\n",
    "            else:\n",
    "                dead_trees.append([trees_map_key[j][0], trees_map_key[j][1], trees_map[trees_map_key[j]][k:]])\n",
    "                trees_map[trees_map_key[j]] = trees_map[trees_map_key[j]][:k]\n",
    "    for j in range(len(dead_trees)):\n",
    "        land[dead_trees[j][0]][dead_trees[j][1]] += sum(dead_trees[j][2]//2)\n",
    "\n",
    "    trees_map_key = list(trees_map.keys())\n",
    "    trees_map_values = list(trees_map.values())\n",
    "    for j in range(len(trees_map)):\n",
    "        for k in range(len(trees_map[trees_map_key[j]])):\n",
    "            if trees_map_values[k][0] % 5 == 0:\n",
    "                for _ in range(8):\n",
    "                    nx = trees_map_key[k][0] + dx[_]\n",
    "                    ny = trees_map_key[k][1] + dy[_]\n",
    "                    if 1 > nx or N < nx or 1 > ny or N < ny: continue\n",
    "                    trees_map[nx,ny].append(1) \n",
    "                    \n",
    "    for j in range(N):\n",
    "        for k in range(N):\n",
    "            land[j][k] += land_refill[j][k]\n",
    "tree_cnt = 0    \n",
    "for i in range(len(trees_map)):\n",
    "    tree_cnt += len(list(trees_map.values())[i])\n",
    "\n",
    "print(tree_cnt, trees_map)\n",
    "\n",
    "\n",
    "\n",
    "\n",
    "    \n",
    "\n",
    "\n"
   ]
  },
  {
   "cell_type": "code",
   "execution_count": 165,
   "metadata": {},
   "outputs": [
    {
     "data": {
      "text/plain": [
       "[1]"
      ]
     },
     "execution_count": 165,
     "metadata": {},
     "output_type": "execute_result"
    }
   ],
   "source": [
    "a = {1:[1], 2:[1], 3:[1,2]}\n",
    "list(a.values())"
   ]
  },
  {
   "cell_type": "code",
   "execution_count": 155,
   "metadata": {},
   "outputs": [
    {
     "data": {
      "text/plain": [
       "[1, 2, 3, 2, 3, 4]"
      ]
     },
     "execution_count": 155,
     "metadata": {},
     "output_type": "execute_result"
    }
   ],
   "source": [
    "a = [1, 2, 3]\n",
    "b = [2, 3, 4]\n"
   ]
  }
 ],
 "metadata": {
  "interpreter": {
   "hash": "0b6ce98c3096834a7a501856e3303731ddbe0942f37d88665ab51c442e15a354"
  },
  "kernelspec": {
   "display_name": "Python 3.10.0 64-bit",
   "language": "python",
   "name": "python3"
  },
  "language_info": {
   "codemirror_mode": {
    "name": "ipython",
    "version": 3
   },
   "file_extension": ".py",
   "mimetype": "text/x-python",
   "name": "python",
   "nbconvert_exporter": "python",
   "pygments_lexer": "ipython3",
   "version": "3.10.0"
  },
  "orig_nbformat": 4
 },
 "nbformat": 4,
 "nbformat_minor": 2
}
