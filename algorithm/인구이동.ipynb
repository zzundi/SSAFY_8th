{
 "cells": [
  {
   "cell_type": "code",
   "execution_count": 3,
   "metadata": {},
   "outputs": [],
   "source": [
    "import math\n",
    "N, L, R = list(map(int, input().split()))\n",
    "p_map = [list(map(int, input().split())) for _ in range(N)]\n",
    "C = 0\n",
    "united_dict = {}\n"
   ]
  },
  {
   "cell_type": "code",
   "execution_count": null,
   "metadata": {},
   "outputs": [],
   "source": [
    "def serch(self, idx):\n",
    "    global N, L, R\n"
   ]
  },
  {
   "cell_type": "code",
   "execution_count": 2,
   "metadata": {},
   "outputs": [
    {
     "ename": "IndentationError",
     "evalue": "expected an indented block after function definition on line 1 (1868183974.py, line 2)",
     "output_type": "error",
     "traceback": [
      "\u001b[1;36m  Input \u001b[1;32mIn [2]\u001b[1;36m\u001b[0m\n\u001b[1;33m    \u001b[0m\n\u001b[1;37m    ^\u001b[0m\n\u001b[1;31mIndentationError\u001b[0m\u001b[1;31m:\u001b[0m expected an indented block after function definition on line 1\n"
     ]
    }
   ],
   "source": [
    "def united(self, idx = [0,0]):\n",
    "    global N, L, R, C\n",
    "    if idx[0] < N -1:\n",
    "        if L <= abs(p_map[idx[0]][idx[1]] - p_map[idx[0]+1][idx[1]]) <= R:\n",
    "            united_dict[C] = united_dict[C]\n",
    "\n",
    "        idx[0] += 1\n"
   ]
  },
  {
   "cell_type": "code",
   "execution_count": null,
   "metadata": {},
   "outputs": [],
   "source": [
    "math.trunc()"
   ]
  }
 ],
 "metadata": {
  "interpreter": {
   "hash": "0b6ce98c3096834a7a501856e3303731ddbe0942f37d88665ab51c442e15a354"
  },
  "kernelspec": {
   "display_name": "Python 3.10.0 64-bit",
   "language": "python",
   "name": "python3"
  },
  "language_info": {
   "codemirror_mode": {
    "name": "ipython",
    "version": 3
   },
   "file_extension": ".py",
   "mimetype": "text/x-python",
   "name": "python",
   "nbconvert_exporter": "python",
   "pygments_lexer": "ipython3",
   "version": "3.10.0"
  },
  "orig_nbformat": 4
 },
 "nbformat": 4,
 "nbformat_minor": 2
}
