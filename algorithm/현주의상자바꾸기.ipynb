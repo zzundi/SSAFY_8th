{
 "cells": [
  {
   "cell_type": "code",
   "execution_count": 58,
   "metadata": {},
   "outputs": [
    {
     "name": "stdout",
     "output_type": "stream",
     "text": [
      "#1 1 2 2 2 0\n"
     ]
    }
   ],
   "source": [
    "tc = int(input())\n",
    "for _ in range(tc):\n",
    "    N, Q = list(map(int, input().split()))\n",
    "    lst_N = [0 for _ in range(N)]\n",
    "    for i in range(1, Q+1):\n",
    "        L, R = list(map(int, input().split()))\n",
    "        for j in range(L-1, R):\n",
    "            lst_N[j] = i\n",
    "    \n",
    "    lst_N = list(map(str, lst_N))\n",
    "    print(f'#{_+1} {\" \".join(lst_N)}')\n"
   ]
  },
  {
   "cell_type": "markdown",
   "metadata": {},
   "source": []
  }
 ],
 "metadata": {
  "interpreter": {
   "hash": "3c3253368f11892fb45006b683f8c9f02efd8ffb5044940f7ceb61b663cb27d4"
  },
  "kernelspec": {
   "display_name": "Python 3.8.10 ('base')",
   "language": "python",
   "name": "python3"
  },
  "language_info": {
   "codemirror_mode": {
    "name": "ipython",
    "version": 3
   },
   "file_extension": ".py",
   "mimetype": "text/x-python",
   "name": "python",
   "nbconvert_exporter": "python",
   "pygments_lexer": "ipython3",
   "version": "3.8.10"
  },
  "orig_nbformat": 4
 },
 "nbformat": 4,
 "nbformat_minor": 2
}
