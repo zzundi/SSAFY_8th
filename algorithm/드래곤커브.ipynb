{
 "cells": [
  {
   "cell_type": "code",
   "execution_count": null,
   "metadata": {},
   "outputs": [],
   "source": [
    "n = int(input())\n",
    "point = []\n",
    "for _ in range(n):\n",
    "    x, y, d, g = list(map(int, input().split()))\n",
    "    point.append([x, y])\n",
    "    for i in range(g):\n",
    "        if d==0:\n",
    "            point.append([x+1, y])\n",
    "            \n",
    "\n",
    "\n"
   ]
  }
 ],
 "metadata": {
  "language_info": {
   "name": "python"
  },
  "orig_nbformat": 4
 },
 "nbformat": 4,
 "nbformat_minor": 2
}
