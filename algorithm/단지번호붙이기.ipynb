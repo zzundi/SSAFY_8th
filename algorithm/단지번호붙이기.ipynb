{
 "cells": [
  {
   "cell_type": "code",
   "execution_count": 123,
   "id": "71a8a5d2-ac47-4209-8609-7c7d8ad530cf",
   "metadata": {},
   "outputs": [
    {
     "data": {
      "text/plain": [
       "[3, 7, 8, 9]"
      ]
     },
     "execution_count": 123,
     "metadata": {},
     "output_type": "execute_result"
    }
   ],
   "source": [
    "\n",
    "n = int(input())\n",
    "h_no = 1\n",
    "map_list = {}\n",
    "visited = []\n",
    "need_visited = []\n",
    "for i in range(n):\n",
    "    row_list = list(map(int, input()))\n",
    "    \n",
    "    for j in range(n):\n",
    "        map_list[(i, j)] = row_list[j]\n",
    "for i in map_list:\n",
    "    if map_list[i] == 1:\n",
    "        need_visited.append(i)\n",
    "def house_search(i, j):\n",
    "    global h_no\n",
    "    if j+1 < n and (i, j+1) in need_visited:\n",
    "        map_list[(i, j+1)] = h_no\n",
    "        visited.append((i, j+1))\n",
    "        need_visited.remove((i, j+1))\n",
    "        house_search(i, j+1)\n",
    "    if j-1 >= 0 and (i, j-1) in need_visited:\n",
    "        map_list[(i, j-1)] = h_no\n",
    "        visited.append((i, j-1))\n",
    "        need_visited.remove((i, j-1))\n",
    "        house_search(i, j-1)\n",
    "    if i+1 < n and (i+1, j) in need_visited:\n",
    "        map_list[(i+1, j)] = h_no\n",
    "        visited.append((i+1, j))\n",
    "        need_visited.remove((i+1, j))\n",
    "        house_search(i+1, j)\n",
    "    if i-1 >= 0 and (i-1, j) in need_visited:\n",
    "        map_list[(i-1, j)] = h_no\n",
    "        visited.append((i-1, j))\n",
    "        need_visited.remove((i-1, j))\n",
    "        house_search(i-1, j)\n",
    "    \n",
    "\n",
    "for (i, j) in map_list:\n",
    "    if (i, j) in need_visited and (i, j) not in visited:\n",
    "        map_list[(i, j)] = h_no\n",
    "        house_search(i, j)\n",
    "        h_no += 1\n",
    "\n",
    "h_list = list(map_list.values())\n",
    "result = []\n",
    "h_sort = []\n",
    "result.append(max(h_list))\n",
    "for i in range(1, max(h_list)+1):\n",
    "    h_sort.append(h_list.count(i))\n",
    "h_sort.sort()\n",
    "result.extend(h_sort)\n",
    "for i in result:\n",
    "    print(i)"
   ]
  }
 ],
 "metadata": {
  "kernelspec": {
   "display_name": "Python 3 (ipykernel)",
   "language": "python",
   "name": "python3"
  },
  "language_info": {
   "codemirror_mode": {
    "name": "ipython",
    "version": 3
   },
   "file_extension": ".py",
   "mimetype": "text/x-python",
   "name": "python",
   "nbconvert_exporter": "python",
   "pygments_lexer": "ipython3",
   "version": "3.10.0"
  }
 },
 "nbformat": 4,
 "nbformat_minor": 5
}
